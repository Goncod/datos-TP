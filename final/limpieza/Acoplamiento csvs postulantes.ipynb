{
 "cells": [
  {
   "cell_type": "code",
   "execution_count": 1,
   "metadata": {},
   "outputs": [
    {
     "data": {
      "text/html": [
       "<style>.container { width:90% !important; }</style>"
      ],
      "text/plain": [
       "<IPython.core.display.HTML object>"
      ]
     },
     "metadata": {},
     "output_type": "display_data"
    }
   ],
   "source": [
    "from IPython.core.display import display, HTML\n",
    "display(HTML(\"<style>.container { width:90% !important; }</style>\"))"
   ]
  },
  {
   "cell_type": "code",
   "execution_count": 2,
   "metadata": {
    "collapsed": true
   },
   "outputs": [],
   "source": [
    "import pandas as pd\n",
    "import numpy as np\n",
    "import seaborn as sns\n",
    "import matplotlib.pyplot as plt"
   ]
  },
  {
   "cell_type": "code",
   "execution_count": 3,
   "metadata": {
    "collapsed": true
   },
   "outputs": [],
   "source": [
    "# Cargo los csv a mergear\n",
    "postulant_education = pd.read_csv('../csvs/fiuba_1_postulantes_educacion.csv')\n",
    "postulant_gen_age = pd.read_csv('../csvs/fiuba_2_postulantes_genero_y_edad.csv')\n",
    "postulations = pd.read_csv('../csvs/fiuba_4_postulaciones.csv')"
   ]
  },
  {
   "cell_type": "markdown",
   "metadata": {},
   "source": [
    "### Veo como son los CSV"
   ]
  },
  {
   "cell_type": "code",
   "execution_count": 4,
   "metadata": {},
   "outputs": [
    {
     "data": {
      "text/html": [
       "<div>\n",
       "<style>\n",
       "    .dataframe thead tr:only-child th {\n",
       "        text-align: right;\n",
       "    }\n",
       "\n",
       "    .dataframe thead th {\n",
       "        text-align: left;\n",
       "    }\n",
       "\n",
       "    .dataframe tbody tr th {\n",
       "        vertical-align: top;\n",
       "    }\n",
       "</style>\n",
       "<table border=\"1\" class=\"dataframe\">\n",
       "  <thead>\n",
       "    <tr style=\"text-align: right;\">\n",
       "      <th></th>\n",
       "      <th>idpostulante</th>\n",
       "      <th>nombre</th>\n",
       "      <th>estado</th>\n",
       "      <th>nivel</th>\n",
       "    </tr>\n",
       "  </thead>\n",
       "  <tbody>\n",
       "    <tr>\n",
       "      <th>0</th>\n",
       "      <td>NdJl</td>\n",
       "      <td>6</td>\n",
       "      <td>1</td>\n",
       "      <td>7</td>\n",
       "    </tr>\n",
       "    <tr>\n",
       "      <th>1</th>\n",
       "      <td>8BkL</td>\n",
       "      <td>4</td>\n",
       "      <td>1</td>\n",
       "      <td>5</td>\n",
       "    </tr>\n",
       "    <tr>\n",
       "      <th>2</th>\n",
       "      <td>1d2B</td>\n",
       "      <td>4</td>\n",
       "      <td>1</td>\n",
       "      <td>5</td>\n",
       "    </tr>\n",
       "    <tr>\n",
       "      <th>3</th>\n",
       "      <td>NPBx</td>\n",
       "      <td>4</td>\n",
       "      <td>1</td>\n",
       "      <td>5</td>\n",
       "    </tr>\n",
       "    <tr>\n",
       "      <th>4</th>\n",
       "      <td>NPBx</td>\n",
       "      <td>5</td>\n",
       "      <td>1</td>\n",
       "      <td>6</td>\n",
       "    </tr>\n",
       "  </tbody>\n",
       "</table>\n",
       "</div>"
      ],
      "text/plain": [
       "  idpostulante  nombre  estado  nivel\n",
       "0         NdJl       6       1      7\n",
       "1         8BkL       4       1      5\n",
       "2         1d2B       4       1      5\n",
       "3         NPBx       4       1      5\n",
       "4         NPBx       5       1      6"
      ]
     },
     "execution_count": 4,
     "metadata": {},
     "output_type": "execute_result"
    }
   ],
   "source": [
    "postulant_education.head()"
   ]
  },
  {
   "cell_type": "code",
   "execution_count": 5,
   "metadata": {},
   "outputs": [
    {
     "data": {
      "text/html": [
       "<div>\n",
       "<style>\n",
       "    .dataframe thead tr:only-child th {\n",
       "        text-align: right;\n",
       "    }\n",
       "\n",
       "    .dataframe thead th {\n",
       "        text-align: left;\n",
       "    }\n",
       "\n",
       "    .dataframe tbody tr th {\n",
       "        vertical-align: top;\n",
       "    }\n",
       "</style>\n",
       "<table border=\"1\" class=\"dataframe\">\n",
       "  <thead>\n",
       "    <tr style=\"text-align: right;\">\n",
       "      <th></th>\n",
       "      <th>idpostulante</th>\n",
       "      <th>sexo</th>\n",
       "      <th>edad</th>\n",
       "    </tr>\n",
       "  </thead>\n",
       "  <tbody>\n",
       "    <tr>\n",
       "      <th>0</th>\n",
       "      <td>NM5M</td>\n",
       "      <td>FEM</td>\n",
       "      <td>47</td>\n",
       "    </tr>\n",
       "    <tr>\n",
       "      <th>1</th>\n",
       "      <td>5awk</td>\n",
       "      <td>FEM</td>\n",
       "      <td>55</td>\n",
       "    </tr>\n",
       "    <tr>\n",
       "      <th>2</th>\n",
       "      <td>ZaO5</td>\n",
       "      <td>FEM</td>\n",
       "      <td>39</td>\n",
       "    </tr>\n",
       "    <tr>\n",
       "      <th>3</th>\n",
       "      <td>NdJl</td>\n",
       "      <td>MASC</td>\n",
       "      <td>49</td>\n",
       "    </tr>\n",
       "    <tr>\n",
       "      <th>4</th>\n",
       "      <td>eo2p</td>\n",
       "      <td>MASC</td>\n",
       "      <td>37</td>\n",
       "    </tr>\n",
       "  </tbody>\n",
       "</table>\n",
       "</div>"
      ],
      "text/plain": [
       "  idpostulante  sexo  edad\n",
       "0         NM5M   FEM    47\n",
       "1         5awk   FEM    55\n",
       "2         ZaO5   FEM    39\n",
       "3         NdJl  MASC    49\n",
       "4         eo2p  MASC    37"
      ]
     },
     "execution_count": 5,
     "metadata": {},
     "output_type": "execute_result"
    }
   ],
   "source": [
    "postulant_gen_age.head()"
   ]
  },
  {
   "cell_type": "code",
   "execution_count": 6,
   "metadata": {},
   "outputs": [
    {
     "data": {
      "text/html": [
       "<div>\n",
       "<style>\n",
       "    .dataframe thead tr:only-child th {\n",
       "        text-align: right;\n",
       "    }\n",
       "\n",
       "    .dataframe thead th {\n",
       "        text-align: left;\n",
       "    }\n",
       "\n",
       "    .dataframe tbody tr th {\n",
       "        vertical-align: top;\n",
       "    }\n",
       "</style>\n",
       "<table border=\"1\" class=\"dataframe\">\n",
       "  <thead>\n",
       "    <tr style=\"text-align: right;\">\n",
       "      <th></th>\n",
       "      <th>idaviso</th>\n",
       "      <th>idpostulante</th>\n",
       "      <th>fechapostulacion</th>\n",
       "    </tr>\n",
       "  </thead>\n",
       "  <tbody>\n",
       "    <tr>\n",
       "      <th>0</th>\n",
       "      <td>1112257047</td>\n",
       "      <td>NM5M</td>\n",
       "      <td>2018-01-15 16:22:34</td>\n",
       "    </tr>\n",
       "    <tr>\n",
       "      <th>1</th>\n",
       "      <td>1111920714</td>\n",
       "      <td>NM5M</td>\n",
       "      <td>2018-02-06 09:04:50</td>\n",
       "    </tr>\n",
       "    <tr>\n",
       "      <th>2</th>\n",
       "      <td>1112346945</td>\n",
       "      <td>NM5M</td>\n",
       "      <td>2018-02-22 09:04:47</td>\n",
       "    </tr>\n",
       "    <tr>\n",
       "      <th>3</th>\n",
       "      <td>1112345547</td>\n",
       "      <td>NM5M</td>\n",
       "      <td>2018-02-22 09:04:59</td>\n",
       "    </tr>\n",
       "    <tr>\n",
       "      <th>4</th>\n",
       "      <td>1112237522</td>\n",
       "      <td>5awk</td>\n",
       "      <td>2018-01-25 18:55:03</td>\n",
       "    </tr>\n",
       "  </tbody>\n",
       "</table>\n",
       "</div>"
      ],
      "text/plain": [
       "      idaviso idpostulante     fechapostulacion\n",
       "0  1112257047         NM5M  2018-01-15 16:22:34\n",
       "1  1111920714         NM5M  2018-02-06 09:04:50\n",
       "2  1112346945         NM5M  2018-02-22 09:04:47\n",
       "3  1112345547         NM5M  2018-02-22 09:04:59\n",
       "4  1112237522         5awk  2018-01-25 18:55:03"
      ]
     },
     "execution_count": 6,
     "metadata": {},
     "output_type": "execute_result"
    }
   ],
   "source": [
    "postulations.head()"
   ]
  },
  {
   "cell_type": "markdown",
   "metadata": {},
   "source": [
    "### Reviso cantidad de resultados con outer"
   ]
  },
  {
   "cell_type": "code",
   "execution_count": 7,
   "metadata": {},
   "outputs": [
    {
     "name": "stdout",
     "output_type": "stream",
     "text": [
      "733714\n"
     ]
    }
   ],
   "source": [
    "postulants_info_o = pd.merge(postulant_education, postulant_gen_age, on = 'idpostulante', how = 'outer')\n",
    "print(len(postulants_info_o))"
   ]
  },
  {
   "cell_type": "code",
   "execution_count": 8,
   "metadata": {},
   "outputs": [
    {
     "name": "stdout",
     "output_type": "stream",
     "text": [
      "11337652\n"
     ]
    }
   ],
   "source": [
    "final_o = pd.merge(postulants_info_o, postulations, on = 'idpostulante', how = 'outer')\n",
    "print(len(final_o))"
   ]
  },
  {
   "cell_type": "markdown",
   "metadata": {},
   "source": [
    "### Reviso cantidad de resultados con inner"
   ]
  },
  {
   "cell_type": "code",
   "execution_count": 9,
   "metadata": {},
   "outputs": [
    {
     "name": "stdout",
     "output_type": "stream",
     "text": [
      "681556\n"
     ]
    }
   ],
   "source": [
    "postulants_info_i = pd.merge(postulant_education, postulant_gen_age, on = 'idpostulante', how = 'inner')\n",
    "print(len(postulants_info_i))"
   ]
  },
  {
   "cell_type": "code",
   "execution_count": 10,
   "metadata": {},
   "outputs": [
    {
     "name": "stdout",
     "output_type": "stream",
     "text": [
      "10825608\n"
     ]
    }
   ],
   "source": [
    "final_i = pd.merge(postulants_info_i, postulations, on = 'idpostulante', how = 'inner')\n",
    "print(len(final_i))"
   ]
  },
  {
   "cell_type": "code",
   "execution_count": 11,
   "metadata": {},
   "outputs": [
    {
     "name": "stdout",
     "output_type": "stream",
     "text": [
      "512044\n"
     ]
    }
   ],
   "source": [
    "# Calculo la cantidad de resultados que quedan fuera con inner\n",
    "print(len(final_o) - len(final_i))"
   ]
  },
  {
   "cell_type": "code",
   "execution_count": 12,
   "metadata": {},
   "outputs": [
    {
     "data": {
      "text/html": [
       "<div>\n",
       "<style>\n",
       "    .dataframe thead tr:only-child th {\n",
       "        text-align: right;\n",
       "    }\n",
       "\n",
       "    .dataframe thead th {\n",
       "        text-align: left;\n",
       "    }\n",
       "\n",
       "    .dataframe tbody tr th {\n",
       "        vertical-align: top;\n",
       "    }\n",
       "</style>\n",
       "<table border=\"1\" class=\"dataframe\">\n",
       "  <thead>\n",
       "    <tr style=\"text-align: right;\">\n",
       "      <th></th>\n",
       "      <th>idpostulante</th>\n",
       "      <th>nombre</th>\n",
       "      <th>estado</th>\n",
       "      <th>nivel</th>\n",
       "      <th>sexo</th>\n",
       "      <th>edad</th>\n",
       "      <th>idaviso</th>\n",
       "      <th>fechapostulacion</th>\n",
       "    </tr>\n",
       "  </thead>\n",
       "  <tbody>\n",
       "    <tr>\n",
       "      <th>0</th>\n",
       "      <td>NdJl</td>\n",
       "      <td>6</td>\n",
       "      <td>1</td>\n",
       "      <td>7</td>\n",
       "      <td>MASC</td>\n",
       "      <td>49</td>\n",
       "      <td>1112261212</td>\n",
       "      <td>2018-01-16 08:50:30</td>\n",
       "    </tr>\n",
       "    <tr>\n",
       "      <th>1</th>\n",
       "      <td>NdJl</td>\n",
       "      <td>6</td>\n",
       "      <td>1</td>\n",
       "      <td>7</td>\n",
       "      <td>MASC</td>\n",
       "      <td>49</td>\n",
       "      <td>1112273308</td>\n",
       "      <td>2018-01-23 07:53:47</td>\n",
       "    </tr>\n",
       "    <tr>\n",
       "      <th>2</th>\n",
       "      <td>NdJl</td>\n",
       "      <td>6</td>\n",
       "      <td>1</td>\n",
       "      <td>7</td>\n",
       "      <td>MASC</td>\n",
       "      <td>49</td>\n",
       "      <td>1112281548</td>\n",
       "      <td>2018-01-24 05:10:12</td>\n",
       "    </tr>\n",
       "    <tr>\n",
       "      <th>3</th>\n",
       "      <td>NdJl</td>\n",
       "      <td>6</td>\n",
       "      <td>1</td>\n",
       "      <td>7</td>\n",
       "      <td>MASC</td>\n",
       "      <td>49</td>\n",
       "      <td>1112260409</td>\n",
       "      <td>2018-01-24 05:17:29</td>\n",
       "    </tr>\n",
       "    <tr>\n",
       "      <th>4</th>\n",
       "      <td>NdJl</td>\n",
       "      <td>6</td>\n",
       "      <td>1</td>\n",
       "      <td>7</td>\n",
       "      <td>MASC</td>\n",
       "      <td>49</td>\n",
       "      <td>1112293547</td>\n",
       "      <td>2018-01-29 15:41:43</td>\n",
       "    </tr>\n",
       "  </tbody>\n",
       "</table>\n",
       "</div>"
      ],
      "text/plain": [
       "  idpostulante  nombre  estado  nivel  sexo  edad     idaviso  \\\n",
       "0         NdJl       6       1      7  MASC    49  1112261212   \n",
       "1         NdJl       6       1      7  MASC    49  1112273308   \n",
       "2         NdJl       6       1      7  MASC    49  1112281548   \n",
       "3         NdJl       6       1      7  MASC    49  1112260409   \n",
       "4         NdJl       6       1      7  MASC    49  1112293547   \n",
       "\n",
       "      fechapostulacion  \n",
       "0  2018-01-16 08:50:30  \n",
       "1  2018-01-23 07:53:47  \n",
       "2  2018-01-24 05:10:12  \n",
       "3  2018-01-24 05:17:29  \n",
       "4  2018-01-29 15:41:43  "
      ]
     },
     "execution_count": 12,
     "metadata": {},
     "output_type": "execute_result"
    }
   ],
   "source": [
    "final_i.head()"
   ]
  },
  {
   "cell_type": "code",
   "execution_count": 13,
   "metadata": {},
   "outputs": [
    {
     "name": "stdout",
     "output_type": "stream",
     "text": [
      "(10825608, 8)\n"
     ]
    }
   ],
   "source": [
    "print(final_i.shape)"
   ]
  },
  {
   "cell_type": "code",
   "execution_count": 14,
   "metadata": {
    "collapsed": true
   },
   "outputs": [],
   "source": [
    "#final_i.to_csv(\"../csvs/postulantes_informacion.csv\", index=False)"
   ]
  },
  {
   "cell_type": "markdown",
   "metadata": {},
   "source": [
    "# Si deseo el csv final con los detalles de los avisos a los que se postularon:"
   ]
  },
  {
   "cell_type": "code",
   "execution_count": 15,
   "metadata": {
    "collapsed": true
   },
   "outputs": [],
   "source": [
    "notice_details = pd.read_csv('../csvs/fiuba_6_avisos_detalle.csv')"
   ]
  },
  {
   "cell_type": "code",
   "execution_count": 16,
   "metadata": {},
   "outputs": [
    {
     "data": {
      "text/html": [
       "<div>\n",
       "<style>\n",
       "    .dataframe thead tr:only-child th {\n",
       "        text-align: right;\n",
       "    }\n",
       "\n",
       "    .dataframe thead th {\n",
       "        text-align: left;\n",
       "    }\n",
       "\n",
       "    .dataframe tbody tr th {\n",
       "        vertical-align: top;\n",
       "    }\n",
       "</style>\n",
       "<table border=\"1\" class=\"dataframe\">\n",
       "  <thead>\n",
       "    <tr style=\"text-align: right;\">\n",
       "      <th></th>\n",
       "      <th>idaviso</th>\n",
       "      <th>idpais</th>\n",
       "      <th>titulo</th>\n",
       "      <th>descripcion</th>\n",
       "      <th>nombre_zona</th>\n",
       "      <th>ciudad</th>\n",
       "      <th>mapacalle</th>\n",
       "      <th>tipo_de_trabajo</th>\n",
       "      <th>nivel_laboral</th>\n",
       "      <th>nombre_area</th>\n",
       "      <th>denominacion_empresa</th>\n",
       "    </tr>\n",
       "  </thead>\n",
       "  <tbody>\n",
       "    <tr>\n",
       "      <th>0</th>\n",
       "      <td>1573840</td>\n",
       "      <td>1</td>\n",
       "      <td>VENDEDORA/O</td>\n",
       "      <td>Nuestra Búsqueda se orienta a la incorporación...</td>\n",
       "      <td>Capital Federal</td>\n",
       "      <td>Flores</td>\n",
       "      <td>NaN</td>\n",
       "      <td>Full-time</td>\n",
       "      <td>Otro</td>\n",
       "      <td>Ventas</td>\n",
       "      <td>RIBEIRO SUC. FLORES</td>\n",
       "    </tr>\n",
       "    <tr>\n",
       "      <th>1</th>\n",
       "      <td>1712970</td>\n",
       "      <td>1</td>\n",
       "      <td>INGENIERO DE PRODUCTO</td>\n",
       "      <td>INGENIERO ELECTRICISTA/ELECTRONICO CON CONOCIM...</td>\n",
       "      <td>Capital Federal</td>\n",
       "      <td>NaN</td>\n",
       "      <td>NaN</td>\n",
       "      <td>Full-time</td>\n",
       "      <td>Otro</td>\n",
       "      <td>Otras Ingenierias</td>\n",
       "      <td>Aparatos Electricos Automaticos SA</td>\n",
       "    </tr>\n",
       "    <tr>\n",
       "      <th>2</th>\n",
       "      <td>1719970</td>\n",
       "      <td>1</td>\n",
       "      <td>** Diseñadores/as Gráficos Quark Express **</td>\n",
       "      <td>Diseñadores/as Gráficos Quark Express para Rev...</td>\n",
       "      <td>Capital Federal</td>\n",
       "      <td>NaN</td>\n",
       "      <td>NaN</td>\n",
       "      <td>Full-time</td>\n",
       "      <td>Otro</td>\n",
       "      <td>Diseño</td>\n",
       "      <td>Revista NEX IT Specialist ? Editorial Poulbert</td>\n",
       "    </tr>\n",
       "    <tr>\n",
       "      <th>3</th>\n",
       "      <td>1720060</td>\n",
       "      <td>1</td>\n",
       "      <td>Soporte Tecnico</td>\n",
       "      <td>Estudiante de Sistemas (Lic. en Sistemas de la...</td>\n",
       "      <td>Capital Federal</td>\n",
       "      <td>NaN</td>\n",
       "      <td>NaN</td>\n",
       "      <td>Full-time</td>\n",
       "      <td>Otro</td>\n",
       "      <td>Tecnologia / Sistemas</td>\n",
       "      <td>Tango Software</td>\n",
       "    </tr>\n",
       "    <tr>\n",
       "      <th>4</th>\n",
       "      <td>1720280</td>\n",
       "      <td>1</td>\n",
       "      <td>ADSCRIPTO DE GERENCIA</td>\n",
       "      <td>Importante Organización Académica Empresarial\\...</td>\n",
       "      <td>Buenos Aires (fuera de GBA)</td>\n",
       "      <td>NaN</td>\n",
       "      <td>NaN</td>\n",
       "      <td>Full-time</td>\n",
       "      <td>Otro</td>\n",
       "      <td>Otros</td>\n",
       "      <td>Experis</td>\n",
       "    </tr>\n",
       "  </tbody>\n",
       "</table>\n",
       "</div>"
      ],
      "text/plain": [
       "   idaviso  idpais                                       titulo  \\\n",
       "0  1573840       1                                  VENDEDORA/O   \n",
       "1  1712970       1                        INGENIERO DE PRODUCTO   \n",
       "2  1719970       1  ** Diseñadores/as Gráficos Quark Express **   \n",
       "3  1720060       1                              Soporte Tecnico   \n",
       "4  1720280       1                        ADSCRIPTO DE GERENCIA   \n",
       "\n",
       "                                         descripcion  \\\n",
       "0  Nuestra Búsqueda se orienta a la incorporación...   \n",
       "1  INGENIERO ELECTRICISTA/ELECTRONICO CON CONOCIM...   \n",
       "2  Diseñadores/as Gráficos Quark Express para Rev...   \n",
       "3  Estudiante de Sistemas (Lic. en Sistemas de la...   \n",
       "4  Importante Organización Académica Empresarial\\...   \n",
       "\n",
       "                   nombre_zona  ciudad mapacalle tipo_de_trabajo  \\\n",
       "0              Capital Federal  Flores       NaN       Full-time   \n",
       "1              Capital Federal     NaN       NaN       Full-time   \n",
       "2              Capital Federal     NaN       NaN       Full-time   \n",
       "3              Capital Federal     NaN       NaN       Full-time   \n",
       "4  Buenos Aires (fuera de GBA)     NaN       NaN       Full-time   \n",
       "\n",
       "  nivel_laboral            nombre_area  \\\n",
       "0          Otro                 Ventas   \n",
       "1          Otro      Otras Ingenierias   \n",
       "2          Otro                 Diseño   \n",
       "3          Otro  Tecnologia / Sistemas   \n",
       "4          Otro                  Otros   \n",
       "\n",
       "                             denominacion_empresa  \n",
       "0                             RIBEIRO SUC. FLORES  \n",
       "1              Aparatos Electricos Automaticos SA  \n",
       "2  Revista NEX IT Specialist ? Editorial Poulbert  \n",
       "3                                  Tango Software  \n",
       "4                                         Experis  "
      ]
     },
     "execution_count": 16,
     "metadata": {},
     "output_type": "execute_result"
    }
   ],
   "source": [
    "notice_details.head()"
   ]
  },
  {
   "cell_type": "code",
   "execution_count": 17,
   "metadata": {},
   "outputs": [
    {
     "name": "stdout",
     "output_type": "stream",
     "text": [
      "10641324\n"
     ]
    }
   ],
   "source": [
    "complete = pd.merge(final_i, notice_details, on = 'idaviso', how = 'inner')\n",
    "print(len(complete))"
   ]
  },
  {
   "cell_type": "code",
   "execution_count": 18,
   "metadata": {},
   "outputs": [
    {
     "data": {
      "text/html": [
       "<div>\n",
       "<style>\n",
       "    .dataframe thead tr:only-child th {\n",
       "        text-align: right;\n",
       "    }\n",
       "\n",
       "    .dataframe thead th {\n",
       "        text-align: left;\n",
       "    }\n",
       "\n",
       "    .dataframe tbody tr th {\n",
       "        vertical-align: top;\n",
       "    }\n",
       "</style>\n",
       "<table border=\"1\" class=\"dataframe\">\n",
       "  <thead>\n",
       "    <tr style=\"text-align: right;\">\n",
       "      <th></th>\n",
       "      <th>idpostulante</th>\n",
       "      <th>nombre</th>\n",
       "      <th>estado</th>\n",
       "      <th>nivel</th>\n",
       "      <th>sexo</th>\n",
       "      <th>edad</th>\n",
       "      <th>idaviso</th>\n",
       "      <th>fechapostulacion</th>\n",
       "      <th>idpais</th>\n",
       "      <th>titulo</th>\n",
       "      <th>descripcion</th>\n",
       "      <th>nombre_zona</th>\n",
       "      <th>ciudad</th>\n",
       "      <th>mapacalle</th>\n",
       "      <th>tipo_de_trabajo</th>\n",
       "      <th>nivel_laboral</th>\n",
       "      <th>nombre_area</th>\n",
       "      <th>denominacion_empresa</th>\n",
       "    </tr>\n",
       "  </thead>\n",
       "  <tbody>\n",
       "    <tr>\n",
       "      <th>0</th>\n",
       "      <td>NdJl</td>\n",
       "      <td>6</td>\n",
       "      <td>1</td>\n",
       "      <td>7</td>\n",
       "      <td>MASC</td>\n",
       "      <td>49</td>\n",
       "      <td>1112261212</td>\n",
       "      <td>2018-01-16 08:50:30</td>\n",
       "      <td>1</td>\n",
       "      <td>Jóvenes Profesionales - Responsable Administra...</td>\n",
       "      <td>Nos encontramos en la búsqueda de un joven pro...</td>\n",
       "      <td>Gran Buenos Aires</td>\n",
       "      <td>NaN</td>\n",
       "      <td>NaN</td>\n",
       "      <td>Full-time</td>\n",
       "      <td>Jefe / Supervisor / Responsable</td>\n",
       "      <td>Administración</td>\n",
       "      <td>EDUCADO EN ARGENTINA</td>\n",
       "    </tr>\n",
       "    <tr>\n",
       "      <th>1</th>\n",
       "      <td>NdJl</td>\n",
       "      <td>4</td>\n",
       "      <td>2</td>\n",
       "      <td>6</td>\n",
       "      <td>MASC</td>\n",
       "      <td>49</td>\n",
       "      <td>1112261212</td>\n",
       "      <td>2018-01-16 08:50:30</td>\n",
       "      <td>1</td>\n",
       "      <td>Jóvenes Profesionales - Responsable Administra...</td>\n",
       "      <td>Nos encontramos en la búsqueda de un joven pro...</td>\n",
       "      <td>Gran Buenos Aires</td>\n",
       "      <td>NaN</td>\n",
       "      <td>NaN</td>\n",
       "      <td>Full-time</td>\n",
       "      <td>Jefe / Supervisor / Responsable</td>\n",
       "      <td>Administración</td>\n",
       "      <td>EDUCADO EN ARGENTINA</td>\n",
       "    </tr>\n",
       "    <tr>\n",
       "      <th>2</th>\n",
       "      <td>EppJmb</td>\n",
       "      <td>4</td>\n",
       "      <td>1</td>\n",
       "      <td>5</td>\n",
       "      <td>MASC</td>\n",
       "      <td>58</td>\n",
       "      <td>1112261212</td>\n",
       "      <td>2018-01-16 18:51:39</td>\n",
       "      <td>1</td>\n",
       "      <td>Jóvenes Profesionales - Responsable Administra...</td>\n",
       "      <td>Nos encontramos en la búsqueda de un joven pro...</td>\n",
       "      <td>Gran Buenos Aires</td>\n",
       "      <td>NaN</td>\n",
       "      <td>NaN</td>\n",
       "      <td>Full-time</td>\n",
       "      <td>Jefe / Supervisor / Responsable</td>\n",
       "      <td>Administración</td>\n",
       "      <td>EDUCADO EN ARGENTINA</td>\n",
       "    </tr>\n",
       "    <tr>\n",
       "      <th>3</th>\n",
       "      <td>EppJmb</td>\n",
       "      <td>4</td>\n",
       "      <td>2</td>\n",
       "      <td>6</td>\n",
       "      <td>MASC</td>\n",
       "      <td>58</td>\n",
       "      <td>1112261212</td>\n",
       "      <td>2018-01-16 18:51:39</td>\n",
       "      <td>1</td>\n",
       "      <td>Jóvenes Profesionales - Responsable Administra...</td>\n",
       "      <td>Nos encontramos en la búsqueda de un joven pro...</td>\n",
       "      <td>Gran Buenos Aires</td>\n",
       "      <td>NaN</td>\n",
       "      <td>NaN</td>\n",
       "      <td>Full-time</td>\n",
       "      <td>Jefe / Supervisor / Responsable</td>\n",
       "      <td>Administración</td>\n",
       "      <td>EDUCADO EN ARGENTINA</td>\n",
       "    </tr>\n",
       "    <tr>\n",
       "      <th>4</th>\n",
       "      <td>8Zr1GD</td>\n",
       "      <td>3</td>\n",
       "      <td>1</td>\n",
       "      <td>4</td>\n",
       "      <td>MASC</td>\n",
       "      <td>42</td>\n",
       "      <td>1112261212</td>\n",
       "      <td>2018-01-17 10:08:22</td>\n",
       "      <td>1</td>\n",
       "      <td>Jóvenes Profesionales - Responsable Administra...</td>\n",
       "      <td>Nos encontramos en la búsqueda de un joven pro...</td>\n",
       "      <td>Gran Buenos Aires</td>\n",
       "      <td>NaN</td>\n",
       "      <td>NaN</td>\n",
       "      <td>Full-time</td>\n",
       "      <td>Jefe / Supervisor / Responsable</td>\n",
       "      <td>Administración</td>\n",
       "      <td>EDUCADO EN ARGENTINA</td>\n",
       "    </tr>\n",
       "  </tbody>\n",
       "</table>\n",
       "</div>"
      ],
      "text/plain": [
       "  idpostulante  nombre  estado  nivel  sexo  edad     idaviso  \\\n",
       "0         NdJl       6       1      7  MASC    49  1112261212   \n",
       "1         NdJl       4       2      6  MASC    49  1112261212   \n",
       "2       EppJmb       4       1      5  MASC    58  1112261212   \n",
       "3       EppJmb       4       2      6  MASC    58  1112261212   \n",
       "4       8Zr1GD       3       1      4  MASC    42  1112261212   \n",
       "\n",
       "      fechapostulacion  idpais  \\\n",
       "0  2018-01-16 08:50:30       1   \n",
       "1  2018-01-16 08:50:30       1   \n",
       "2  2018-01-16 18:51:39       1   \n",
       "3  2018-01-16 18:51:39       1   \n",
       "4  2018-01-17 10:08:22       1   \n",
       "\n",
       "                                              titulo  \\\n",
       "0  Jóvenes Profesionales - Responsable Administra...   \n",
       "1  Jóvenes Profesionales - Responsable Administra...   \n",
       "2  Jóvenes Profesionales - Responsable Administra...   \n",
       "3  Jóvenes Profesionales - Responsable Administra...   \n",
       "4  Jóvenes Profesionales - Responsable Administra...   \n",
       "\n",
       "                                         descripcion        nombre_zona  \\\n",
       "0  Nos encontramos en la búsqueda de un joven pro...  Gran Buenos Aires   \n",
       "1  Nos encontramos en la búsqueda de un joven pro...  Gran Buenos Aires   \n",
       "2  Nos encontramos en la búsqueda de un joven pro...  Gran Buenos Aires   \n",
       "3  Nos encontramos en la búsqueda de un joven pro...  Gran Buenos Aires   \n",
       "4  Nos encontramos en la búsqueda de un joven pro...  Gran Buenos Aires   \n",
       "\n",
       "  ciudad mapacalle tipo_de_trabajo                    nivel_laboral  \\\n",
       "0    NaN       NaN       Full-time  Jefe / Supervisor / Responsable   \n",
       "1    NaN       NaN       Full-time  Jefe / Supervisor / Responsable   \n",
       "2    NaN       NaN       Full-time  Jefe / Supervisor / Responsable   \n",
       "3    NaN       NaN       Full-time  Jefe / Supervisor / Responsable   \n",
       "4    NaN       NaN       Full-time  Jefe / Supervisor / Responsable   \n",
       "\n",
       "      nombre_area  denominacion_empresa  \n",
       "0  Administración  EDUCADO EN ARGENTINA  \n",
       "1  Administración  EDUCADO EN ARGENTINA  \n",
       "2  Administración  EDUCADO EN ARGENTINA  \n",
       "3  Administración  EDUCADO EN ARGENTINA  \n",
       "4  Administración  EDUCADO EN ARGENTINA  "
      ]
     },
     "execution_count": 18,
     "metadata": {},
     "output_type": "execute_result"
    }
   ],
   "source": [
    "complete.head()"
   ]
  },
  {
   "cell_type": "code",
   "execution_count": 20,
   "metadata": {},
   "outputs": [
    {
     "data": {
      "text/html": [
       "<div>\n",
       "<style>\n",
       "    .dataframe thead tr:only-child th {\n",
       "        text-align: right;\n",
       "    }\n",
       "\n",
       "    .dataframe thead th {\n",
       "        text-align: left;\n",
       "    }\n",
       "\n",
       "    .dataframe tbody tr th {\n",
       "        vertical-align: top;\n",
       "    }\n",
       "</style>\n",
       "<table border=\"1\" class=\"dataframe\">\n",
       "  <thead>\n",
       "    <tr style=\"text-align: right;\">\n",
       "      <th></th>\n",
       "      <th>idpostulante</th>\n",
       "      <th>nombre</th>\n",
       "      <th>estado</th>\n",
       "      <th>nivel</th>\n",
       "      <th>sexo</th>\n",
       "      <th>edad</th>\n",
       "      <th>idaviso</th>\n",
       "      <th>nombre_zona</th>\n",
       "      <th>tipo_de_trabajo</th>\n",
       "      <th>nivel_laboral</th>\n",
       "      <th>nombre_area</th>\n",
       "    </tr>\n",
       "  </thead>\n",
       "  <tbody>\n",
       "    <tr>\n",
       "      <th>0</th>\n",
       "      <td>NdJl</td>\n",
       "      <td>6</td>\n",
       "      <td>1</td>\n",
       "      <td>7</td>\n",
       "      <td>MASC</td>\n",
       "      <td>49</td>\n",
       "      <td>1112261212</td>\n",
       "      <td>Gran Buenos Aires</td>\n",
       "      <td>Full-time</td>\n",
       "      <td>Jefe / Supervisor / Responsable</td>\n",
       "      <td>Administración</td>\n",
       "    </tr>\n",
       "    <tr>\n",
       "      <th>1</th>\n",
       "      <td>NdJl</td>\n",
       "      <td>4</td>\n",
       "      <td>2</td>\n",
       "      <td>6</td>\n",
       "      <td>MASC</td>\n",
       "      <td>49</td>\n",
       "      <td>1112261212</td>\n",
       "      <td>Gran Buenos Aires</td>\n",
       "      <td>Full-time</td>\n",
       "      <td>Jefe / Supervisor / Responsable</td>\n",
       "      <td>Administración</td>\n",
       "    </tr>\n",
       "    <tr>\n",
       "      <th>2</th>\n",
       "      <td>EppJmb</td>\n",
       "      <td>4</td>\n",
       "      <td>1</td>\n",
       "      <td>5</td>\n",
       "      <td>MASC</td>\n",
       "      <td>58</td>\n",
       "      <td>1112261212</td>\n",
       "      <td>Gran Buenos Aires</td>\n",
       "      <td>Full-time</td>\n",
       "      <td>Jefe / Supervisor / Responsable</td>\n",
       "      <td>Administración</td>\n",
       "    </tr>\n",
       "    <tr>\n",
       "      <th>3</th>\n",
       "      <td>EppJmb</td>\n",
       "      <td>4</td>\n",
       "      <td>2</td>\n",
       "      <td>6</td>\n",
       "      <td>MASC</td>\n",
       "      <td>58</td>\n",
       "      <td>1112261212</td>\n",
       "      <td>Gran Buenos Aires</td>\n",
       "      <td>Full-time</td>\n",
       "      <td>Jefe / Supervisor / Responsable</td>\n",
       "      <td>Administración</td>\n",
       "    </tr>\n",
       "    <tr>\n",
       "      <th>4</th>\n",
       "      <td>8Zr1GD</td>\n",
       "      <td>3</td>\n",
       "      <td>1</td>\n",
       "      <td>4</td>\n",
       "      <td>MASC</td>\n",
       "      <td>42</td>\n",
       "      <td>1112261212</td>\n",
       "      <td>Gran Buenos Aires</td>\n",
       "      <td>Full-time</td>\n",
       "      <td>Jefe / Supervisor / Responsable</td>\n",
       "      <td>Administración</td>\n",
       "    </tr>\n",
       "  </tbody>\n",
       "</table>\n",
       "</div>"
      ],
      "text/plain": [
       "  idpostulante  nombre  estado  nivel  sexo  edad     idaviso  \\\n",
       "0         NdJl       6       1      7  MASC    49  1112261212   \n",
       "1         NdJl       4       2      6  MASC    49  1112261212   \n",
       "2       EppJmb       4       1      5  MASC    58  1112261212   \n",
       "3       EppJmb       4       2      6  MASC    58  1112261212   \n",
       "4       8Zr1GD       3       1      4  MASC    42  1112261212   \n",
       "\n",
       "         nombre_zona tipo_de_trabajo                    nivel_laboral  \\\n",
       "0  Gran Buenos Aires       Full-time  Jefe / Supervisor / Responsable   \n",
       "1  Gran Buenos Aires       Full-time  Jefe / Supervisor / Responsable   \n",
       "2  Gran Buenos Aires       Full-time  Jefe / Supervisor / Responsable   \n",
       "3  Gran Buenos Aires       Full-time  Jefe / Supervisor / Responsable   \n",
       "4  Gran Buenos Aires       Full-time  Jefe / Supervisor / Responsable   \n",
       "\n",
       "      nombre_area  \n",
       "0  Administración  \n",
       "1  Administración  \n",
       "2  Administración  \n",
       "3  Administración  \n",
       "4  Administración  "
      ]
     },
     "execution_count": 20,
     "metadata": {},
     "output_type": "execute_result"
    }
   ],
   "source": [
    "# Con columnas completas\n",
    "# complete.to_csv(\"../csvs/postulantes_informacion_completa.csv\", index=False)\n",
    "# Categorizando columnas y eliminando algunas.\n",
    "df_cat = complete.drop(['fechapostulacion', 'idpais', 'titulo', 'descripcion', 'ciudad', 'mapacalle', 'denominacion_empresa'], axis = 1)\n",
    "df_cat.head()"
   ]
  },
  {
   "cell_type": "code",
   "execution_count": 22,
   "metadata": {},
   "outputs": [],
   "source": [
    "df_cat.to_csv(\"../csvs/postulantes_informacion.csv\", index=False)"
   ]
  }
 ],
 "metadata": {
  "kernelspec": {
   "display_name": "Python 3",
   "language": "python",
   "name": "python3"
  },
  "language_info": {
   "codemirror_mode": {
    "name": "ipython",
    "version": 3
   },
   "file_extension": ".py",
   "mimetype": "text/x-python",
   "name": "python",
   "nbconvert_exporter": "python",
   "pygments_lexer": "ipython3",
   "version": "3.6.1"
  }
 },
 "nbformat": 4,
 "nbformat_minor": 2
}
